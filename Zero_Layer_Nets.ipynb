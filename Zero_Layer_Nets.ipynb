{
 "cells": [
  {
   "cell_type": "code",
   "execution_count": 1,
   "metadata": {
    "collapsed": true
   },
   "outputs": [],
   "source": [
    "# set up\n",
    "import tensorflow as tf\n",
    "import numpy as np\n",
    "import matplotlib.pyplot as plt \n",
    "\n",
    "%matplotlib inline\n",
    "plt.rcParams['figure.figsize'] = (10.0, 8.0) # set default size of plots\n",
    "plt.rcParams['image.interpolation'] = 'nearest'\n",
    "plt.rcParams['image.cmap'] = 'gray'\n",
    "\n",
    "# get data\n",
    "import RGC_Flicker\n",
    "#from RGC_Flicker import get_flicker\n",
    "reload(RGC_Flicker)\n",
    "X_train, y_train, X_val, y_val, X_test, y_test = RGC_Flicker.get_flicker(num_classes=1)"
   ]
  },
  {
   "cell_type": "code",
   "execution_count": 2,
   "metadata": {
    "collapsed": false
   },
   "outputs": [
    {
     "name": "stderr",
     "output_type": "stream",
     "text": [
      "Using TensorFlow backend.\n"
     ]
    }
   ],
   "source": [
    "# keras imports\n",
    "from keras.models import Sequential\n",
    "from keras.layers import Dense, Dropout, Activation\n",
    "from keras.regularizers import l2, activity_l2, l1, activity_l1\n",
    "from keras.optimizers import RMSprop\n",
    "from keras.constraints import maxnorm\n",
    "from keras.callbacks import EarlyStopping\n",
    "import time "
   ]
  },
  {
   "cell_type": "code",
   "execution_count": 4,
   "metadata": {
    "collapsed": false
   },
   "outputs": [],
   "source": [
    "# sigmoid model setup and compilation\n",
    "model_sig = Sequential()\n",
    "\n",
    "stim_bin = 20\n",
    "num_classes = 1\n",
    "val_data = X_val, y_val\n",
    "\n",
    "model_sig.add(Dense(output_dim=num_classes, input_dim=stim_bin, W_regularizer=l2(0.01)))\n",
    "model_sig.add(Activation('sigmoid'))\n",
    "\n",
    "model_sig.compile(loss='poisson', optimizer='SGD', metrics=['mean_squared_error'])"
   ]
  },
  {
   "cell_type": "code",
   "execution_count": 5,
   "metadata": {
    "collapsed": false
   },
   "outputs": [
    {
     "name": "stdout",
     "output_type": "stream",
     "text": [
      "Train on 37000 samples, validate on 5000 samples\n",
      "Epoch 1/10\n",
      "2s - loss: 0.6099 - mean_squared_error: 0.3179 - val_loss: 0.5325 - val_mean_squared_error: 0.2706\n",
      "Epoch 2/10\n",
      "2s - loss: 0.4999 - mean_squared_error: 0.2454 - val_loss: 0.4673 - val_mean_squared_error: 0.2387\n",
      "Epoch 3/10\n",
      "2s - loss: 0.4669 - mean_squared_error: 0.2253 - val_loss: 0.4400 - val_mean_squared_error: 0.2261\n",
      "Epoch 4/10\n",
      "2s - loss: 0.4562 - mean_squared_error: 0.2163 - val_loss: 0.4263 - val_mean_squared_error: 0.2195\n",
      "Epoch 5/10\n",
      "2s - loss: 0.4523 - mean_squared_error: 0.2113 - val_loss: 0.4188 - val_mean_squared_error: 0.2159\n",
      "Epoch 6/10\n",
      "2s - loss: 0.4508 - mean_squared_error: 0.2088 - val_loss: 0.4141 - val_mean_squared_error: 0.2134\n",
      "Epoch 7/10\n",
      "2s - loss: 0.4502 - mean_squared_error: 0.2068 - val_loss: 0.4115 - val_mean_squared_error: 0.2122\n",
      "Epoch 8/10\n",
      "2s - loss: 0.4500 - mean_squared_error: 0.2057 - val_loss: 0.4098 - val_mean_squared_error: 0.2116\n",
      "Epoch 9/10\n",
      "2s - loss: 0.4499 - mean_squared_error: 0.2053 - val_loss: 0.4087 - val_mean_squared_error: 0.2111\n",
      "Epoch 10/10\n",
      "2s - loss: 0.4498 - mean_squared_error: 0.2052 - val_loss: 0.4077 - val_mean_squared_error: 0.2101\n",
      "10432/10500 [============================>.] - ETA: 0s"
     ]
    },
    {
     "data": {
      "text/plain": [
       "[<matplotlib.lines.Line2D at 0x1159ceed0>]"
      ]
     },
     "execution_count": 5,
     "metadata": {},
     "output_type": "execute_result"
    },
    {
     "data": {
      "image/png": "[encoded data removed]",
      "text/plain": [
       "<matplotlib.figure.Figure at 0x1158f5a90>"
      ]
     },
     "metadata": {},
     "output_type": "display_data"
    }
   ],
   "source": [
    "# exp model fitting\n",
    "early_stopping = EarlyStopping(monitor='val_loss', patience=2) # stop early if loss goes up for 2 epochs\n",
    "hist_sig = model_sig.fit(X_train, y_train, nb_epoch=10, batch_size=32, verbose=2, validation_data=val_data, callbacks=[early_stopping])\n",
    "time.sleep(0.2)\n",
    "loss_and_metrics_sig = model_sig.evaluate(X_test, y_test)\n",
    "\n",
    "plt.plot(hist_sig.history['loss'])"
   ]
  },
  {
   "cell_type": "code",
   "execution_count": 6,
   "metadata": {
    "collapsed": false
   },
   "outputs": [
    {
     "name": "stdout",
     "output_type": "stream",
     "text": [
      "['loss', 'mean_squared_error']\n",
      "[0.39768135688418432, 0.19934647218953996]\n",
      "9682.09415462\n"
     ]
    }
   ],
   "source": [
    "# exp model results\n",
    "print model_sig.metrics_names\n",
    "print loss_and_metrics_sig\n",
    "print -np.log(loss_and_metrics_sig[0]) * len(X_test)"
   ]
  },
  {
   "cell_type": "code",
   "execution_count": 9,
   "metadata": {
    "collapsed": true
   },
   "outputs": [],
   "source": [
    "# model 2: relu model; setup and compilation \n",
    "model_relu = Sequential()\n",
    "\n",
    "stim_bin = 20\n",
    "num_classes = 1\n",
    "val_data = X_val, y_val\n",
    "\n",
    "model_relu.add(Dense(output_dim=num_classes, input_dim=stim_bin, W_regularizer=l2(0.01)))\n",
    "model_relu.add(Activation('relu'))\n",
    "\n",
    "model_relu.compile(loss='poisson', optimizer='SGD', metrics=['mean_squared_error'])"
   ]
  },
  {
   "cell_type": "code",
   "execution_count": 10,
   "metadata": {
    "collapsed": false
   },
   "outputs": [
    {
     "name": "stdout",
     "output_type": "stream",
     "text": [
      "Train on 37000 samples, validate on 5000 samples\n",
      "Epoch 1/10\n",
      "2s - loss: 0.5779 - mean_squared_error: 0.3447 - val_loss: 0.3455 - val_mean_squared_error: 0.1485\n",
      "Epoch 2/10\n",
      "2s - loss: 6.5982 - mean_squared_error: 68.2300 - val_loss: 7.4427 - val_mean_squared_error: 92.5676\n",
      "Epoch 3/10\n",
      "2s - loss: 7.2693 - mean_squared_error: 44.5038 - val_loss: 3.6182 - val_mean_squared_error: 15.9261\n",
      "Epoch 4/10\n",
      "2s - loss: 3.8369 - mean_squared_error: 7.5486 - val_loss: 2.4359 - val_mean_squared_error: 5.7108\n",
      "10400/10500 [============================>.] - ETA: 0s"
     ]
    },
    {
     "data": {
      "text/plain": [
       "[<matplotlib.lines.Line2D at 0x1168ebf90>]"
      ]
     },
     "execution_count": 10,
     "metadata": {},
     "output_type": "execute_result"
    },
    {
     "data": {
      "image/png": "[encoded data removed]",
      "text/plain": [
       "<matplotlib.figure.Figure at 0x1163468d0>"
      ]
     },
     "metadata": {},
     "output_type": "display_data"
    }
   ],
   "source": [
    "# relu model fitting\n",
    "early_stopping = EarlyStopping(monitor='val_loss', patience=2) # stop early if loss goes up for 2 epochs\n",
    "hist_relu = model_relu.fit(X_train, y_train, nb_epoch=10, batch_size=32, verbose=2, validation_data=val_data, callbacks=[early_stopping])\n",
    "time.sleep(0.2)\n",
    "loss_and_metrics_relu = model_relu.evaluate(X_test, y_test)\n",
    "\n",
    "plt.plot(hist_relu.history['loss'])"
   ]
  },
  {
   "cell_type": "code",
   "execution_count": 11,
   "metadata": {
    "collapsed": false
   },
   "outputs": [
    {
     "name": "stdout",
     "output_type": "stream",
     "text": [
      "['loss', 'mean_squared_error']\n",
      "[2.3246027581351143, 5.5824612277802963]\n",
      "-8857.26626112\n"
     ]
    }
   ],
   "source": [
    "# relu model results\n",
    "print model_relu.metrics_names\n",
    "print loss_and_metrics_relu\n",
    "print -np.log(loss_and_metrics_relu[0]) * len(X_test)"
   ]
  },
  {
   "cell_type": "code",
   "execution_count": 12,
   "metadata": {
    "collapsed": true
   },
   "outputs": [],
   "source": [
    "# model 3: exp model; setup and compilation \n",
    "from keras import backend as K\n",
    "\n",
    "def exp(x):\n",
    "    return K.exp(x)\n",
    "\n",
    "model_exp = Sequential()\n",
    "\n",
    "stim_bin = 20\n",
    "num_classes = 1\n",
    "val_data = X_val, y_val\n",
    "\n",
    "model_exp.add(Dense(output_dim=num_classes, input_dim=stim_bin, W_regularizer=l2(0.01)))\n",
    "model_exp.add(Activation(exp))\n",
    "\n",
    "model_exp.compile(loss='poisson', optimizer='SGD', metrics=['mean_squared_error'])"
   ]
  },
  {
   "cell_type": "code",
   "execution_count": 13,
   "metadata": {
    "collapsed": false
   },
   "outputs": [
    {
     "name": "stdout",
     "output_type": "stream",
     "text": [
      "Train on 37000 samples, validate on 5000 samples\n",
      "Epoch 1/10\n",
      "2s - loss: 0.5899 - mean_squared_error: 0.3566 - val_loss: 0.4613 - val_mean_squared_error: 0.2256\n",
      "Epoch 2/10\n",
      "2s - loss: 0.4381 - mean_squared_error: 0.1949 - val_loss: 0.4023 - val_mean_squared_error: 0.1832\n",
      "Epoch 3/10\n",
      "2s - loss: 0.4159 - mean_squared_error: 0.1703 - val_loss: 0.3816 - val_mean_squared_error: 0.1675\n",
      "Epoch 4/10\n",
      "2s - loss: 0.4104 - mean_squared_error: 0.1613 - val_loss: 0.3727 - val_mean_squared_error: 0.1616\n",
      "Epoch 5/10\n",
      "2s - loss: 0.4087 - mean_squared_error: 0.1573 - val_loss: 0.3686 - val_mean_squared_error: 0.1600\n",
      "Epoch 6/10\n",
      "2s - loss: 0.4082 - mean_squared_error: 0.1559 - val_loss: 0.3658 - val_mean_squared_error: 0.1572\n",
      "Epoch 7/10\n",
      "2s - loss: 0.4080 - mean_squared_error: 0.1543 - val_loss: 0.3649 - val_mean_squared_error: 0.1576\n",
      "Epoch 8/10\n",
      "2s - loss: 0.4080 - mean_squared_error: 0.1538 - val_loss: 0.3644 - val_mean_squared_error: 0.1580\n",
      "Epoch 9/10\n",
      "2s - loss: 0.4080 - mean_squared_error: 0.1541 - val_loss: 0.3635 - val_mean_squared_error: 0.1563\n",
      "Epoch 10/10\n",
      "2s - loss: 0.4080 - mean_squared_error: 0.1535 - val_loss: 0.3633 - val_mean_squared_error: 0.1564\n",
      "10432/10500 [============================>.] - ETA: 0s"
     ]
    },
    {
     "data": {
      "text/plain": [
       "[<matplotlib.lines.Line2D at 0x113785ad0>]"
      ]
     },
     "execution_count": 13,
     "metadata": {},
     "output_type": "execute_result"
    },
    {
     "data": {
      "image/png": "[encoded data removed]",
      "text/plain": [
       "<matplotlib.figure.Figure at 0x10341cc90>"
      ]
     },
     "metadata": {},
     "output_type": "display_data"
    }
   ],
   "source": [
    "# exp model fitting\n",
    "early_stopping = EarlyStopping(monitor='val_loss', patience=2) # stop early if loss goes up for 2 epochs\n",
    "hist_exp = model_exp.fit(X_train, y_train, nb_epoch=10, batch_size=32, verbose=2, validation_data=val_data, callbacks=[early_stopping])\n",
    "time.sleep(0.2)\n",
    "loss_and_metrics_exp = model_exp.evaluate(X_test, y_test)\n",
    "\n",
    "plt.plot(hist_exp.history['loss'])"
   ]
  },
  {
   "cell_type": "code",
   "execution_count": 14,
   "metadata": {
    "collapsed": false
   },
   "outputs": [
    {
     "name": "stdout",
     "output_type": "stream",
     "text": [
      "['loss', 'mean_squared_error']\n",
      "[0.35469192870457966, 0.14737672770591009]\n",
      "10883.3095637\n"
     ]
    }
   ],
   "source": [
    "# exp model results\n",
    "print model_exp.metrics_names\n",
    "print loss_and_metrics_exp\n",
    "print -np.log(loss_and_metrics_exp[0]) * len(X_test)"
   ]
  },
  {
   "cell_type": "code",
   "execution_count": null,
   "metadata": {
    "collapsed": true
   },
   "outputs": [],
   "source": []
  }
 ],
 "metadata": {
  "kernelspec": {
   "display_name": "Python 2",
   "language": "python",
   "name": "python2"
  },
  "language_info": {
   "codemirror_mode": {
    "name": "ipython",
    "version": 2
   },
   "file_extension": ".py",
   "mimetype": "text/x-python",
   "name": "python",
   "nbconvert_exporter": "python",
   "pygments_lexer": "ipython2",
   "version": "2.7.11"
  }
 },
 "nbformat": 4,
 "nbformat_minor": 0
}

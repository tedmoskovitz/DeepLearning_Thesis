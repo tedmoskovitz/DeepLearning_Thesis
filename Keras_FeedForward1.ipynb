{
 "cells": [
  {
   "cell_type": "code",
   "execution_count": 1,
   "metadata": {
    "collapsed": false
   },
   "outputs": [],
   "source": [
    "import tensorflow as tf\n",
    "import numpy as np\n",
    "import matplotlib.pyplot as plt \n",
    "\n",
    "%matplotlib inline\n",
    "plt.rcParams['figure.figsize'] = (10.0, 8.0) # set default size of plots\n",
    "plt.rcParams['image.interpolation'] = 'nearest'\n",
    "plt.rcParams['image.cmap'] = 'gray'\n",
    "\n",
    "# get data\n",
    "import RGC_Flicker\n",
    "#from RGC_Flicker import get_flicker\n",
    "reload(RGC_Flicker)\n",
    "X_train, y_train, X_val, y_val, X_test, y_test = RGC_Flicker.get_flicker(num_classes=1)"
   ]
  },
  {
   "cell_type": "code",
   "execution_count": 136,
   "metadata": {
    "collapsed": false
   },
   "outputs": [
    {
     "name": "stdout",
     "output_type": "stream",
     "text": [
      "(37000,)\n",
      "[0 0]\n",
      "[[ 0.47953596 -0.4804704   0.47953596 -0.48046404 -0.48045769 -0.48046404\n",
      "  -0.48046404 -0.48046404 -0.48045769  0.47954231 -0.48045769  0.47954231\n",
      "   0.47954867 -0.48044497  0.47956138  0.47956138 -0.48043226  0.4795741\n",
      "  -0.4804259   0.4795741 ]\n",
      " [ 0.47953596  0.4795296   0.47953596 -0.48046404  0.47954231 -0.48046404\n",
      "   0.47953596 -0.48046404 -0.48045769  0.47954231  0.47954231  0.47954231\n",
      "  -0.48045133  0.47955503 -0.48043862  0.47956138 -0.48043226  0.4795741\n",
      "  -0.4804259   0.4795741 ]]\n"
     ]
    }
   ],
   "source": [
    "print y_train.shape\n",
    "print y_train[:2]\n",
    "print X_train[:2, :]"
   ]
  },
  {
   "cell_type": "code",
   "execution_count": 52,
   "metadata": {
    "collapsed": false
   },
   "outputs": [
    {
     "name": "stdout",
     "output_type": "stream",
     "text": [
      "Proportion of 0s:  0.816540540541\n"
     ]
    }
   ],
   "source": [
    "print 'Proportion of 0s: ', float(len(np.where(y_train[:,0] == 1.)[0])) / y_train.shape[0]"
   ]
  },
  {
   "cell_type": "code",
   "execution_count": 9,
   "metadata": {
    "collapsed": false
   },
   "outputs": [
    {
     "name": "stdout",
     "output_type": "stream",
     "text": [
      "Train on 37000 samples, validate on 5000 samples\n",
      "Epoch 1/10\n",
      "5s - loss: 2.1983 - mean_squared_error: 0.4682 - val_loss: 0.4604 - val_mean_squared_error: 0.2410\n",
      "Epoch 2/10\n",
      "4s - loss: 1.3832 - mean_squared_error: 0.2289 - val_loss: 0.3733 - val_mean_squared_error: 0.1956\n",
      "Epoch 3/10\n",
      "4s - loss: 1.0575 - mean_squared_error: 0.2399 - val_loss: 0.4045 - val_mean_squared_error: 0.1814\n",
      "Epoch 4/10\n",
      "5s - loss: 0.8467 - mean_squared_error: 0.1997 - val_loss: 0.4835 - val_mean_squared_error: 0.2088\n",
      "Epoch 5/10\n",
      "4s - loss: 0.6913 - mean_squared_error: 0.1941 - val_loss: 0.3482 - val_mean_squared_error: 0.1621\n",
      "Epoch 6/10\n",
      "5s - loss: 0.5901 - mean_squared_error: 0.1855 - val_loss: 0.3465 - val_mean_squared_error: 0.1610\n",
      "Epoch 7/10\n",
      "4s - loss: 0.5457 - mean_squared_error: 0.1939 - val_loss: 0.3524 - val_mean_squared_error: 0.1754\n",
      "Epoch 8/10\n",
      "4s - loss: 0.4970 - mean_squared_error: 0.1817 - val_loss: 0.3284 - val_mean_squared_error: 0.1538\n",
      "Epoch 9/10\n",
      "4s - loss: 0.4627 - mean_squared_error: 0.1747 - val_loss: 0.3482 - val_mean_squared_error: 0.1531\n",
      "Epoch 10/10\n",
      "5s - loss: 0.4486 - mean_squared_error: 0.1719 - val_loss: 0.3243 - val_mean_squared_error: 0.1482\n",
      "10432/10500 [============================>.] - ETA: 0s"
     ]
    },
    {
     "data": {
      "text/plain": [
       "[<matplotlib.lines.Line2D at 0x113cec390>]"
      ]
     },
     "execution_count": 9,
     "metadata": {},
     "output_type": "execute_result"
    },
    {
     "data": {
      "image/png": "[encoded data removed]",
      "text/plain": [
       "<matplotlib.figure.Figure at 0x115edcb50>"
      ]
     },
     "metadata": {},
     "output_type": "display_data"
    }
   ],
   "source": [
    "from keras.models import Sequential\n",
    "from keras.layers import Dense, Dropout, Activation\n",
    "from keras.regularizers import l2, activity_l2, l1, activity_l1\n",
    "from keras.optimizers import RMSprop\n",
    "from keras.constraints import maxnorm\n",
    "from keras.callbacks import EarlyStopping\n",
    "import time \n",
    "\n",
    "model = Sequential()\n",
    "\n",
    "hidden_num = 100\n",
    "stim_bin = 20\n",
    "num_classes = 1\n",
    "val_data = X_val, y_val\n",
    "\n",
    "# layer 1\n",
    "model.add(Dense(output_dim=hidden_num, input_dim=stim_bin, W_regularizer=l2(0.01)))\n",
    "model.add(Activation(\"relu\"))\n",
    "model.add(Dropout(0.8))\n",
    "\n",
    "# layer 2\n",
    "model.add(Dense(output_dim=200, input_dim=hidden_num, W_regularizer=l2(0.01)))\n",
    "model.add(Activation(\"relu\"))\n",
    "model.add(Dropout(0.5))\n",
    "\n",
    "# output layer \n",
    "model.add(Dense(output_dim=num_classes, W_regularizer=l1(0.01), W_constraint = maxnorm(2)))\n",
    "model.add(Activation(\"relu\"))\n",
    "\n",
    "best_acc = 0.\n",
    "best_batch = 0\n",
    "best_hist = None\n",
    "\n",
    "model.compile(loss='poisson', optimizer='SGD', metrics=['mean_squared_error'])\n",
    "\n",
    "early_stopping = EarlyStopping(monitor='val_loss', patience=2) # stop early if loss goes up for 2 epochs\n",
    "hist = model.fit(X_train, y_train, nb_epoch=10, batch_size=32, verbose=2, validation_data=val_data, callbacks=[early_stopping])\n",
    "time.sleep(0.2)\n",
    "loss_and_metrics = model.evaluate(X_test, y_test)\n",
    "\n",
    "plt.plot(hist.history['loss'])"
   ]
  },
  {
   "cell_type": "code",
   "execution_count": 10,
   "metadata": {
    "collapsed": false
   },
   "outputs": [
    {
     "name": "stdout",
     "output_type": "stream",
     "text": [
      "['loss', 'mean_squared_error']\n",
      "[0.31030034845144977, 0.14044566708554823]\n",
      "12287.2531381\n"
     ]
    }
   ],
   "source": [
    "print model.metrics_names\n",
    "print loss_and_metrics\n",
    "print -np.log(loss_and_metrics[0]) * len(X_test)"
   ]
  },
  {
   "cell_type": "code",
   "execution_count": 129,
   "metadata": {
    "collapsed": false
   },
   "outputs": [
    {
     "data": {
      "text/plain": [
       "array([0, 0, 0, 0, 1, 0, 0, 0, 0, 2, 0, 0, 1, 0, 0, 0, 0, 0, 0, 2, 0, 0, 0,\n",
       "       0, 0, 0, 0, 0, 0, 0, 2, 0, 0, 0, 0, 0, 0, 0, 2, 0, 0, 0, 0, 1, 0, 0,\n",
       "       0, 0, 1, 0, 1, 1, 0, 0, 0, 1, 0, 0, 0, 0, 0, 0, 0, 0, 0, 0, 0, 0, 0,\n",
       "       0, 0, 0, 0, 0, 0, 0, 3, 0, 1, 0, 0, 0, 0, 0, 0, 0, 0, 0, 0, 0, 0, 0,\n",
       "       0, 0, 1, 0, 1, 0, 1, 0])"
      ]
     },
     "execution_count": 129,
     "metadata": {},
     "output_type": "execute_result"
    }
   ],
   "source": [
    "y_train[:100]"
   ]
  },
  {
   "cell_type": "code",
   "execution_count": 11,
   "metadata": {
    "collapsed": false
   },
   "outputs": [
    {
     "name": "stdout",
     "output_type": "stream",
     "text": [
      "[0 0 0 0 1 0 0 0 0 0]\n",
      "[[ 0.02609914]\n",
      " [ 0.18385898]\n",
      " [ 0.        ]\n",
      " [ 0.00707949]\n",
      " [ 0.64367384]\n",
      " [ 0.        ]\n",
      " [ 0.        ]\n",
      " [ 0.37021631]\n",
      " [ 0.04707075]\n",
      " [ 0.00189704]]\n"
     ]
    }
   ],
   "source": [
    "print y_test[:10]\n",
    "print model.predict(X_test[:10, :])"
   ]
  },
  {
   "cell_type": "code",
   "execution_count": 159,
   "metadata": {
    "collapsed": false
   },
   "outputs": [
    {
     "data": {
      "text/plain": [
       "array([[-0.48046404,  0.4795296 , -0.48046404, -0.48046404, -0.48045769,\n",
       "        -0.48046404, -0.48046404,  0.47953596,  0.47954231, -0.48045769,\n",
       "         0.47954231, -0.48045769, -0.48045133, -0.48044497, -0.48043862,\n",
       "         0.47956138, -0.48043226,  0.4795741 , -0.4804259 , -0.4804259 ],\n",
       "       [ 0.47953596,  0.4795296 , -0.48046404,  0.47953596,  0.47954231,\n",
       "        -0.48046404,  0.47953596,  0.47953596, -0.48045769, -0.48045769,\n",
       "         0.47954231,  0.47954231, -0.48045133, -0.48044497, -0.48043862,\n",
       "        -0.48043862,  0.47956774,  0.4795741 , -0.4804259 , -0.4804259 ],\n",
       "       [-0.48046404, -0.4804704 , -0.48046404,  0.47953596, -0.48045769,\n",
       "         0.47953596, -0.48046404, -0.48046404, -0.48045769, -0.48045769,\n",
       "        -0.48045769,  0.47954231, -0.48045133, -0.48044497,  0.47956138,\n",
       "         0.47956138, -0.48043226, -0.4804259 , -0.4804259 , -0.4804259 ],\n",
       "       [ 0.47953596,  0.4795296 ,  0.47953596,  0.47953596,  0.47954231,\n",
       "         0.47953596, -0.48046404,  0.47953596, -0.48045769, -0.48045769,\n",
       "        -0.48045769,  0.47954231,  0.47954867, -0.48044497, -0.48043862,\n",
       "        -0.48043862,  0.47956774, -0.4804259 ,  0.4795741 ,  0.4795741 ],\n",
       "       [ 0.47953596, -0.4804704 ,  0.47953596,  0.47953596,  0.47954231,\n",
       "         0.47953596, -0.48046404,  0.47953596,  0.47954231, -0.48045769,\n",
       "        -0.48045769, -0.48045769,  0.47954867, -0.48044497, -0.48043862,\n",
       "        -0.48043862, -0.48043226,  0.4795741 , -0.4804259 , -0.4804259 ],\n",
       "       [ 0.47953596,  0.4795296 , -0.48046404, -0.48046404, -0.48045769,\n",
       "        -0.48046404,  0.47953596,  0.47953596,  0.47954231,  0.47954231,\n",
       "        -0.48045769, -0.48045769,  0.47954867,  0.47955503, -0.48043862,\n",
       "        -0.48043862, -0.48043226, -0.4804259 , -0.4804259 , -0.4804259 ],\n",
       "       [ 0.47953596, -0.4804704 ,  0.47953596,  0.47953596, -0.48045769,\n",
       "         0.47953596,  0.47953596, -0.48046404, -0.48045769, -0.48045769,\n",
       "        -0.48045769, -0.48045769, -0.48045133, -0.48044497,  0.47956138,\n",
       "         0.47956138,  0.47956774, -0.4804259 , -0.4804259 ,  0.4795741 ],\n",
       "       [ 0.47953596,  0.4795296 , -0.48046404, -0.48046404, -0.48045769,\n",
       "        -0.48046404,  0.47953596, -0.48046404, -0.48045769, -0.48045769,\n",
       "        -0.48045769,  0.47954231, -0.48045133, -0.48044497, -0.48043862,\n",
       "        -0.48043862, -0.48043226,  0.4795741 ,  0.4795741 , -0.4804259 ],\n",
       "       [ 0.47953596, -0.4804704 ,  0.47953596, -0.48046404,  0.47954231,\n",
       "        -0.48046404, -0.48046404, -0.48046404,  0.47954231,  0.47954231,\n",
       "        -0.48045769,  0.47954231,  0.47954867,  0.47955503, -0.48043862,\n",
       "        -0.48043862,  0.47956774, -0.4804259 , -0.4804259 , -0.4804259 ],\n",
       "       [ 0.47953596, -0.4804704 , -0.48046404,  0.47953596, -0.48045769,\n",
       "        -0.48046404,  0.47953596, -0.48046404, -0.48045769,  0.47954231,\n",
       "         0.47954231,  0.47954231, -0.48045133, -0.48044497,  0.47956138,\n",
       "         0.47956138,  0.47956774,  0.4795741 , -0.4804259 ,  0.4795741 ]])"
      ]
     },
     "execution_count": 159,
     "metadata": {},
     "output_type": "execute_result"
    }
   ],
   "source": [
    "y_train[:10]\n",
    "X_test[:10]"
   ]
  },
  {
   "cell_type": "code",
   "execution_count": 144,
   "metadata": {
    "collapsed": false
   },
   "outputs": [
    {
     "name": "stdout",
     "output_type": "stream",
     "text": [
      "8\n",
      "[]\n"
     ]
    }
   ],
   "source": [
    "ls = []\n",
    "for layer in model.layers:\n",
    "    ls.append(layer)\n",
    "print len(ls)"
   ]
  },
  {
   "cell_type": "code",
   "execution_count": 156,
   "metadata": {
    "collapsed": false
   },
   "outputs": [
    {
     "name": "stdout",
     "output_type": "stream",
     "text": [
      "(20, 100)\n",
      "(100, 200)\n",
      "(200, 1)\n"
     ]
    }
   ],
   "source": [
    "l = len(ls)\n",
    "for i in xrange(len(ls)):\n",
    "    if len(np.asarray(ls[i].get_weights())) > 0:\n",
    "        print np.asarray(ls[i].get_weights())[0].shape"
   ]
  },
  {
   "cell_type": "code",
   "execution_count": 7,
   "metadata": {
    "collapsed": false
   },
   "outputs": [
    {
     "name": "stdout",
     "output_type": "stream",
     "text": [
      "[[ -91.41305542]\n",
      " [ -92.17530823]\n",
      " [ -62.08726883]\n",
      " [-114.32331848]\n",
      " [ -67.33665466]\n",
      " [ -39.05504227]\n",
      " [ -62.91485977]\n",
      " [-134.61820984]\n",
      " [ -70.95826721]\n",
      " [ -71.78538513]]\n"
     ]
    }
   ],
   "source": [
    "from keras import backend as K\n",
    "get_1st_layer_output = K.function([model.layers[0].input, K.learning_phase()],\n",
    "                                  [model.layers[6].output])\n",
    "print get_1st_layer_output([X_test[:10], 0])[0]"
   ]
  },
  {
   "cell_type": "code",
   "execution_count": null,
   "metadata": {
    "collapsed": true
   },
   "outputs": [],
   "source": []
  }
 ],
 "metadata": {
  "kernelspec": {
   "display_name": "Python 2",
   "language": "python",
   "name": "python2"
  },
  "language_info": {
   "codemirror_mode": {
    "name": "ipython",
    "version": 2
   },
   "file_extension": ".py",
   "mimetype": "text/x-python",
   "name": "python",
   "nbconvert_exporter": "python",
   "pygments_lexer": "ipython2",
   "version": "2.7.11"
  }
 },
 "nbformat": 4,
 "nbformat_minor": 0
}

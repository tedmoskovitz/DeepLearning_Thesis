{
 "cells": [
  {
   "cell_type": "code",
   "execution_count": 125,
   "metadata": {
    "collapsed": false
   },
   "outputs": [],
   "source": [
    "import tensorflow as tf\n",
    "import numpy as np\n",
    "import matplotlib.pyplot as plt \n",
    "\n",
    "%matplotlib inline\n",
    "plt.rcParams['figure.figsize'] = (10.0, 8.0) # set default size of plots\n",
    "plt.rcParams['image.interpolation'] = 'nearest'\n",
    "plt.rcParams['image.cmap'] = 'gray'\n",
    "\n",
    "# get data\n",
    "import RGC_Flicker\n",
    "#from RGC_Flicker import get_flicker\n",
    "reload(RGC_Flicker)\n",
    "X_train, y_train, X_val, y_val, X_test, y_test = RGC_Flicker.get_flicker(num_classes=1)"
   ]
  },
  {
   "cell_type": "code",
   "execution_count": 126,
   "metadata": {
    "collapsed": false
   },
   "outputs": [
    {
     "name": "stdout",
     "output_type": "stream",
     "text": [
      "(37000,)\n",
      "[0 0]\n",
      "[[ 0.47953596  0.4795296   0.47953596 -0.48046404  0.47954231  0.47953596\n",
      "   0.47953596 -0.48046404 -0.48045769 -0.48045769 -0.48045769  0.47954231\n",
      "   0.47954867  0.47955503 -0.48043862 -0.48043862 -0.48043226 -0.4804259\n",
      "  -0.4804259   0.4795741 ]\n",
      " [ 0.47953596 -0.4804704  -0.48046404 -0.48046404 -0.48045769  0.47953596\n",
      "  -0.48046404  0.47953596 -0.48045769 -0.48045769  0.47954231 -0.48045769\n",
      "   0.47954867 -0.48044497 -0.48043862  0.47956138 -0.48043226  0.4795741\n",
      "  -0.4804259  -0.4804259 ]]\n"
     ]
    }
   ],
   "source": [
    "print y_train.shape\n",
    "print y_train[:2]\n",
    "print X_train[:2, :]"
   ]
  },
  {
   "cell_type": "code",
   "execution_count": 52,
   "metadata": {
    "collapsed": false
   },
   "outputs": [
    {
     "name": "stdout",
     "output_type": "stream",
     "text": [
      "Proportion of 0s:  0.816540540541\n"
     ]
    }
   ],
   "source": [
    "print 'Proportion of 0s: ', float(len(np.where(y_train[:,0] == 1.)[0])) / y_train.shape[0]"
   ]
  },
  {
   "cell_type": "code",
   "execution_count": 134,
   "metadata": {
    "collapsed": false
   },
   "outputs": [
    {
     "name": "stdout",
     "output_type": "stream",
     "text": [
      "Train on 37000 samples, validate on 5000 samples\n",
      "Epoch 1/10\n",
      "4s - loss: 55.5350 - mean_squared_error: 381947.0011 - val_loss: 3.5976 - val_mean_squared_error: 0.3268\n",
      "Epoch 2/10\n",
      "4s - loss: 51.1614 - mean_squared_error: 152.6474 - val_loss: 3.5976 - val_mean_squared_error: 0.3268\n",
      "Epoch 3/10\n",
      "4s - loss: 33.5819 - mean_squared_error: 88.1519 - val_loss: 3.5976 - val_mean_squared_error: 0.3268\n",
      "Epoch 4/10\n",
      "4s - loss: 22.9195 - mean_squared_error: 23.4080 - val_loss: 3.5976 - val_mean_squared_error: 0.3268\n",
      "Epoch 5/10\n",
      "4s - loss: 20.4786 - mean_squared_error: 2.9138 - val_loss: 3.5976 - val_mean_squared_error: 0.3268\n",
      "Epoch 6/10\n",
      "4s - loss: 14.3076 - mean_squared_error: 1.7094 - val_loss: 3.5976 - val_mean_squared_error: 0.3268\n",
      "Epoch 7/10\n",
      "4s - loss: 10.4465 - mean_squared_error: 1.4782 - val_loss: 3.5976 - val_mean_squared_error: 0.3268\n",
      "Epoch 8/10\n",
      "4s - loss: 8.0034 - mean_squared_error: 0.8017 - val_loss: 3.5976 - val_mean_squared_error: 0.3268\n",
      "Epoch 9/10\n",
      "4s - loss: 6.4691 - mean_squared_error: 0.6039 - val_loss: 3.5976 - val_mean_squared_error: 0.3268\n",
      "Epoch 10/10\n",
      "4s - loss: 5.4990 - mean_squared_error: 0.5175 - val_loss: 3.5976 - val_mean_squared_error: 0.3268\n",
      "10400/10500 [============================>.] - ETA: 0s"
     ]
    },
    {
     "data": {
      "text/plain": [
       "[<matplotlib.lines.Line2D at 0x12ae1fe10>]"
      ]
     },
     "execution_count": 134,
     "metadata": {},
     "output_type": "execute_result"
    },
    {
     "data": {
      "image/png": "[encoded data removed]",
      "text/plain": [
       "<matplotlib.figure.Figure at 0x12ad326d0>"
      ]
     },
     "metadata": {},
     "output_type": "display_data"
    }
   ],
   "source": [
    "from keras.models import Sequential\n",
    "from keras.layers import Dense, Dropout, Activation\n",
    "from keras.regularizers import l2, activity_l2\n",
    "from keras.optimizers import RMSprop\n",
    "import time \n",
    "\n",
    "model = Sequential()\n",
    "\n",
    "hidden_num = 100\n",
    "stim_bin = 20\n",
    "num_classes = 1\n",
    "val_data = X_val, y_val\n",
    "\n",
    "# layer 1\n",
    "model.add(Dense(output_dim=hidden_num, input_dim=stim_bin))\n",
    "model.add(Activation(\"relu\"))\n",
    "model.add(Dropout(0.8))\n",
    "\n",
    "# layer 2\n",
    "model.add(Dense(output_dim=200, input_dim=hidden_num, W_regularizer=l2(0.01)))\n",
    "model.add(Activation(\"relu\"))\n",
    "model.add(Dropout(0.5))\n",
    "\n",
    "# output layer \n",
    "model.add(Dense(output_dim=num_classes))\n",
    "model.add(Activation(\"relu\"))\n",
    "\n",
    "best_acc = 0.\n",
    "best_batch = 0\n",
    "best_hist = None\n",
    "\n",
    "model.compile(loss='poisson', optimizer='SGD', metrics=['mean_squared_error'])\n",
    "\n",
    "hist = model.fit(X_train, y_train, nb_epoch=10, batch_size=32, verbose=2, validation_data=val_data)\n",
    "time.sleep(0.2)\n",
    "loss_and_metrics = model.evaluate(X_test, y_test)\n",
    "\n",
    "plt.plot(hist.history['loss'])"
   ]
  },
  {
   "cell_type": "code",
   "execution_count": 128,
   "metadata": {
    "collapsed": false
   },
   "outputs": [
    {
     "name": "stdout",
     "output_type": "stream",
     "text": [
      "['loss', 'mean_squared_error']\n",
      "[3.8806233731224422, 0.35657142857142859]\n",
      "-14237.955941\n"
     ]
    }
   ],
   "source": [
    "print model.metrics_names\n",
    "print loss_and_metrics\n",
    "print -np.log(loss_and_metrics[0]) * len(X_test)"
   ]
  },
  {
   "cell_type": "code",
   "execution_count": 129,
   "metadata": {
    "collapsed": false
   },
   "outputs": [
    {
     "data": {
      "text/plain": [
       "array([0, 0, 0, 0, 1, 0, 0, 0, 0, 2, 0, 0, 1, 0, 0, 0, 0, 0, 0, 2, 0, 0, 0,\n",
       "       0, 0, 0, 0, 0, 0, 0, 2, 0, 0, 0, 0, 0, 0, 0, 2, 0, 0, 0, 0, 1, 0, 0,\n",
       "       0, 0, 1, 0, 1, 1, 0, 0, 0, 1, 0, 0, 0, 0, 0, 0, 0, 0, 0, 0, 0, 0, 0,\n",
       "       0, 0, 0, 0, 0, 0, 0, 3, 0, 1, 0, 0, 0, 0, 0, 0, 0, 0, 0, 0, 0, 0, 0,\n",
       "       0, 0, 1, 0, 1, 0, 1, 0])"
      ]
     },
     "execution_count": 129,
     "metadata": {},
     "output_type": "execute_result"
    }
   ],
   "source": [
    "y_train[:100]"
   ]
  },
  {
   "cell_type": "code",
   "execution_count": 130,
   "metadata": {
    "collapsed": false
   },
   "outputs": [
    {
     "name": "stdout",
     "output_type": "stream",
     "text": [
      "[[ 0.]\n",
      " [ 0.]\n",
      " [ 0.]\n",
      " [ 0.]\n",
      " [ 0.]\n",
      " [ 0.]\n",
      " [ 0.]\n",
      " [ 0.]\n",
      " [ 0.]\n",
      " [ 0.]]\n"
     ]
    }
   ],
   "source": [
    "print model.predict(X_train[:10, :])"
   ]
  },
  {
   "cell_type": "code",
   "execution_count": 131,
   "metadata": {
    "collapsed": false
   },
   "outputs": [
    {
     "data": {
      "text/plain": [
       "array([0, 0, 0, 0, 1, 0, 0, 0, 0, 2])"
      ]
     },
     "execution_count": 131,
     "metadata": {},
     "output_type": "execute_result"
    }
   ],
   "source": [
    "y_train[:10]"
   ]
  },
  {
   "cell_type": "code",
   "execution_count": null,
   "metadata": {
    "collapsed": true
   },
   "outputs": [],
   "source": []
  }
 ],
 "metadata": {
  "kernelspec": {
   "display_name": "Python 2",
   "language": "python",
   "name": "python2"
  },
  "language_info": {
   "codemirror_mode": {
    "name": "ipython",
    "version": 2
   },
   "file_extension": ".py",
   "mimetype": "text/x-python",
   "name": "python",
   "nbconvert_exporter": "python",
   "pygments_lexer": "ipython2",
   "version": "2.7.11"
  }
 },
 "nbformat": 4,
 "nbformat_minor": 0
}

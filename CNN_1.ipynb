{
 "cells": [
  {
   "cell_type": "code",
   "execution_count": 2,
   "metadata": {
    "collapsed": true
   },
   "outputs": [],
   "source": [
    "import tensorflow as tf\n",
    "import numpy as np\n",
    "import matplotlib.pyplot as plt \n",
    "\n",
    "%matplotlib inline\n",
    "plt.rcParams['figure.figsize'] = (10.0, 8.0) # set default size of plots\n",
    "plt.rcParams['image.interpolation'] = 'nearest'\n",
    "plt.rcParams['image.cmap'] = 'gray'\n",
    "\n",
    "# get data\n",
    "import RGC_Flicker\n",
    "#from RGC_Flicker import get_flicker\n",
    "reload(RGC_Flicker)\n",
    "X_train, y_train, X_val, y_val, X_test, y_test = RGC_Flicker.get_flicker(num_classes=1)"
   ]
  },
  {
   "cell_type": "code",
   "execution_count": 8,
   "metadata": {
    "collapsed": false
   },
   "outputs": [
    {
     "name": "stdout",
     "output_type": "stream",
     "text": [
      "Train on 37000 samples, validate on 5000 samples\n",
      "Epoch 1/15\n",
      "5s - loss: 1.0000 - mean_squared_error: 0.8769 - val_loss: 1.0000 - val_mean_squared_error: 0.8838\n",
      "Epoch 2/15\n",
      "5s - loss: 1.0000 - mean_squared_error: 0.8769 - val_loss: 1.0000 - val_mean_squared_error: 0.8838\n",
      "Epoch 3/15\n",
      "5s - loss: 1.0000 - mean_squared_error: 0.8769 - val_loss: 1.0000 - val_mean_squared_error: 0.8838\n",
      "Epoch 4/15\n",
      "5s - loss: 1.0000 - mean_squared_error: 0.8769 - val_loss: 1.0000 - val_mean_squared_error: 0.8838\n",
      "Epoch 5/15\n",
      "5s - loss: 1.0000 - mean_squared_error: 0.8769 - val_loss: 1.0000 - val_mean_squared_error: 0.8838\n",
      "Epoch 6/15\n",
      "5s - loss: 1.0000 - mean_squared_error: 0.8769 - val_loss: 1.0000 - val_mean_squared_error: 0.8838\n",
      "Epoch 7/15\n",
      "5s - loss: 1.0000 - mean_squared_error: 0.8769 - val_loss: 1.0000 - val_mean_squared_error: 0.8838\n",
      "Epoch 8/15\n",
      "5s - loss: 1.0000 - mean_squared_error: 0.8769 - val_loss: 1.0000 - val_mean_squared_error: 0.8838\n",
      "Epoch 9/15\n",
      "5s - loss: 1.0000 - mean_squared_error: 0.8769 - val_loss: 1.0000 - val_mean_squared_error: 0.8838\n",
      "Epoch 10/15\n",
      "5s - loss: 1.0000 - mean_squared_error: 0.8769 - val_loss: 1.0000 - val_mean_squared_error: 0.8838\n",
      "Epoch 11/15\n",
      "5s - loss: 1.0000 - mean_squared_error: 0.8769 - val_loss: 1.0000 - val_mean_squared_error: 0.8838\n",
      "Epoch 12/15\n",
      "5s - loss: 1.0000 - mean_squared_error: 0.8769 - val_loss: 1.0000 - val_mean_squared_error: 0.8838\n",
      "Epoch 13/15\n",
      "5s - loss: 1.0000 - mean_squared_error: 0.8769 - val_loss: 1.0000 - val_mean_squared_error: 0.8838\n",
      "Epoch 14/15\n",
      "5s - loss: 1.0000 - mean_squared_error: 0.8769 - val_loss: 1.0000 - val_mean_squared_error: 0.8838\n",
      "Epoch 15/15\n",
      "5s - loss: 1.0000 - mean_squared_error: 0.8769 - val_loss: 1.0000 - val_mean_squared_error: 0.8838\n",
      "10300/10500 [============================>.] - ETA: 0s"
     ]
    },
    {
     "data": {
      "text/plain": [
       "[<matplotlib.lines.Line2D at 0x118e670d0>]"
      ]
     },
     "execution_count": 8,
     "metadata": {},
     "output_type": "execute_result"
    },
    {
     "data": {
      "image/png": "[encoded data removed]",
      "text/plain": [
       "<matplotlib.figure.Figure at 0x1188fe250>"
      ]
     },
     "metadata": {},
     "output_type": "display_data"
    }
   ],
   "source": [
    "from keras.models import Sequential\n",
    "from keras.layers import Dense, Dropout, Activation, Flatten\n",
    "from keras.regularizers import l2, activity_l2\n",
    "from keras.layers import Convolution1D\n",
    "from keras.optimizers import RMSprop\n",
    "import time \n",
    "\n",
    "stim_bin = 20\n",
    "num_classes = 1\n",
    "X_train = np.reshape(X_train, (X_train.shape[0], X_train.shape[1], 1))\n",
    "X_val = np.reshape(X_val, (X_val.shape[0], X_val.shape[1], 1))\n",
    "X_test = np.reshape(X_test, (X_test.shape[0], X_test.shape[1], 1))\n",
    "val_data = X_val, y_val\n",
    "\n",
    "model = Sequential()\n",
    "model.add(Convolution1D(64, 3, border_mode='same', input_dim=1, input_length=20))\n",
    "model.add(Convolution1D(32, 3, border_mode='same'))\n",
    "model.add(Activation(\"relu\"))\n",
    "model.add(Flatten())\n",
    "model.add(Dense(output_dim=num_classes))\n",
    "model.add(Activation(\"softmax\"))\n",
    "\n",
    "model.compile(loss='poisson', optimizer='SGD', metrics=['mean_squared_error'])\n",
    "hist = model.fit(X_train, y_train, nb_epoch=15, batch_size=32, verbose=2, validation_data=val_data)\n",
    "time.sleep(.1)\n",
    "loss_and_metrics = model.evaluate(X_test, y_test, batch_size=100)\n",
    "plt.plot(hist.history['loss'])\n"
   ]
  },
  {
   "cell_type": "code",
   "execution_count": 10,
   "metadata": {
    "collapsed": false
   },
   "outputs": [
    {
     "name": "stdout",
     "output_type": "stream",
     "text": [
      "[1.0, 0.8798095237641107]\n",
      "1344.52337467\n"
     ]
    }
   ],
   "source": [
    "print loss_and_metrics\n",
    "print -np.log(loss_and_metrics[1]) * X_test.shape[0]"
   ]
  },
  {
   "cell_type": "code",
   "execution_count": null,
   "metadata": {
    "collapsed": true
   },
   "outputs": [],
   "source": []
  }
 ],
 "metadata": {
  "kernelspec": {
   "display_name": "Python 2",
   "language": "python",
   "name": "python2"
  },
  "language_info": {
   "codemirror_mode": {
    "name": "ipython",
    "version": 2
   },
   "file_extension": ".py",
   "mimetype": "text/x-python",
   "name": "python",
   "nbconvert_exporter": "python",
   "pygments_lexer": "ipython2",
   "version": "2.7.11"
  }
 },
 "nbformat": 4,
 "nbformat_minor": 0
}
